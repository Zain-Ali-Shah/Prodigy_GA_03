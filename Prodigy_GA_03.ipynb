{
  "nbformat": 4,
  "nbformat_minor": 0,
  "metadata": {
    "colab": {
      "provenance": []
    },
    "kernelspec": {
      "name": "python3",
      "display_name": "Python 3"
    },
    "language_info": {
      "name": "python"
    }
  },
  "cells": [
    {
      "cell_type": "code",
      "execution_count": 1,
      "metadata": {
        "id": "curh4Jwdj57f"
      },
      "outputs": [],
      "source": [
        "import numpy as np\n",
        "import random\n",
        "import re\n",
        "from collections import defaultdict, Counter"
      ]
    },
    {
      "cell_type": "code",
      "source": [
        "text_content = \"\"\"Once upon a time, in a faraway land, there lived a young prince who dreamed of adventures beyond the castle walls. Every day, he would gaze out of his window, imagining the wonders that lay beyond the horizon.\n",
        "\n",
        "One day, the prince decided to embark on a journey to explore the world. He packed his bag with essentials and set off into the unknown. Along his journey, he encountered many challenges and met a variety of interesting characters.\n",
        "\n",
        "In a dense forest, he met an old wise woman who gave him a magical map. The map showed the way to a hidden treasure guarded by a fierce dragon. With courage and determination, the prince followed the map and faced the dragon.\n",
        "\n",
        "After a fierce battle, the prince managed to defeat the dragon and claim the treasure. He returned to his kingdom as a hero, bringing with him not just the treasure, but stories of his incredible adventures.\n",
        "\n",
        "The kingdom celebrated his return with great joy and festivities. The young prince had grown into a wise and brave king, beloved by all his people.\n",
        "\n",
        "And so, the prince's journey became a legend, inspiring future generations to seek out their own adventures and to face their fears with courage.\n",
        "\"\"\""
      ],
      "metadata": {
        "id": "jVegirBZkB7v"
      },
      "execution_count": 2,
      "outputs": []
    },
    {
      "cell_type": "code",
      "source": [
        "# Preprocess the text\n",
        "text_content = text_content.lower()\n",
        "text = re.sub(r'\\s+', ' ', text_content)"
      ],
      "metadata": {
        "id": "JcsgAg0FkIiK"
      },
      "execution_count": 3,
      "outputs": []
    },
    {
      "cell_type": "code",
      "source": [
        "# Tokenize the text into words\n",
        "words = text.split()"
      ],
      "metadata": {
        "id": "PEkJofDPkV7p"
      },
      "execution_count": 4,
      "outputs": []
    },
    {
      "cell_type": "code",
      "source": [
        "# Create a dictionary to store the transitions\n",
        "markov_chain = defaultdict(Counter)"
      ],
      "metadata": {
        "id": "mBFEuT8Nkcbd"
      },
      "execution_count": 5,
      "outputs": []
    },
    {
      "cell_type": "code",
      "source": [
        "# Populate the dictionary with transitions\n",
        "for i in range(len(words) - 1):\n",
        "    current_word = words[i]\n",
        "    next_word = words[i + 1]\n",
        "    markov_chain[current_word][next_word] += 1"
      ],
      "metadata": {
        "id": "8_JkpivCkfim"
      },
      "execution_count": 6,
      "outputs": []
    },
    {
      "cell_type": "code",
      "source": [
        "# Convert the counts to probabilities\n",
        "for current_word, transitions in markov_chain.items():\n",
        "    total = sum(transitions.values())\n",
        "    for next_word in transitions:\n",
        "        transitions[next_word] /= total"
      ],
      "metadata": {
        "id": "4A9yuMF2kjpi"
      },
      "execution_count": 8,
      "outputs": []
    },
    {
      "cell_type": "code",
      "source": [
        "# Function to generate text using the Markov chain\n",
        "def generate_text(chain, start_word, length=50):\n",
        "    current_word = start_word\n",
        "    generated_text = [current_word]\n",
        "\n",
        "    for _ in range(length - 1):\n",
        "        next_words = list(chain[current_word].keys())\n",
        "        if not next_words:  # Check if next_words is empty\n",
        "            # Option 1: Stop the generation if no next words are available\n",
        "            # break\n",
        "\n",
        "            # Option 2: Pick a random word from the text to continue\n",
        "            current_word = random.choice(list(chain.keys()))\n",
        "        else:\n",
        "            probabilities = list(chain[current_word].values())\n",
        "            current_word = np.random.choice(next_words, p=probabilities)\n",
        "\n",
        "        generated_text.append(current_word)\n",
        "\n",
        "    return ' '.join(generated_text)"
      ],
      "metadata": {
        "id": "1mRefOJTkmag"
      },
      "execution_count": 12,
      "outputs": []
    },
    {
      "cell_type": "code",
      "source": [
        "# Generate text starting with a specific word\n",
        "start_word = 'once'\n",
        "generated_text = generate_text(markov_chain, start_word, length=50)\n",
        "print(generated_text)"
      ],
      "metadata": {
        "colab": {
          "base_uri": "https://localhost:8080/"
        },
        "id": "9ALmieLdk0xf",
        "outputId": "52971be8-54db-46f9-c239-8bd7250fb6bd"
      },
      "execution_count": 13,
      "outputs": [
        {
          "output_type": "stream",
          "name": "stdout",
          "text": [
            "once upon a time, in a hidden treasure guarded by a variety of interesting characters. in a wise and faced the world. he returned to defeat the map showed the horizon. one day, he met an old wise and set off into a time, in a hidden treasure guarded by\n"
          ]
        }
      ]
    },
    {
      "cell_type": "code",
      "source": [
        "start_word = 'prince'\n",
        "generated_text = generate_text(markov_chain, start_word, length=50)\n",
        "print(generated_text)"
      ],
      "metadata": {
        "colab": {
          "base_uri": "https://localhost:8080/"
        },
        "id": "9PR2QKNBk99Q",
        "outputId": "f1884dfb-4094-426d-bfcf-e1d50fd717d4"
      },
      "execution_count": 21,
      "outputs": [
        {
          "output_type": "stream",
          "name": "stdout",
          "text": [
            "prince who gave him a hidden treasure guarded by a fierce dragon. with courage and to his kingdom celebrated his window, imagining the map and set off into the dragon. after a journey to face their fears with him a young prince decided to seek out of his window, imagining\n"
          ]
        }
      ]
    },
    {
      "cell_type": "code",
      "source": [
        "start_word = 'sports'\n",
        "generated_text = generate_text(markov_chain, start_word, length=50)\n",
        "print(generated_text)"
      ],
      "metadata": {
        "colab": {
          "base_uri": "https://localhost:8080/"
        },
        "id": "pt3fwCLHlm6D",
        "outputId": "b7088aa5-681a-498c-cecd-67a66bf444e2"
      },
      "execution_count": 17,
      "outputs": [
        {
          "output_type": "stream",
          "name": "stdout",
          "text": [
            "sports stories of adventures beyond the map showed the castle walls. every day, the treasure, but stories of adventures beyond the prince followed the way to a variety of interesting characters. in a wise woman who gave him a faraway land, there lived a faraway land, there lived a hero,\n"
          ]
        }
      ]
    },
    {
      "cell_type": "code",
      "source": [],
      "metadata": {
        "id": "nqsWh0IMl0gM"
      },
      "execution_count": null,
      "outputs": []
    }
  ]
}